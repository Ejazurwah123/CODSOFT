{
 "cells": [
  {
   "cell_type": "code",
   "execution_count": null,
   "metadata": {},
   "outputs": [],
   "source": [
    "import pandas as pd\n",
    "movies = pd.read_csv('movies.csv')  \n",
    "ratings = pd.read_csv('ratings.csv')  \n",
    "joined = pd.merge(movies, ratings, on='movieId')\n",
    "def recommend_movies_by_genre(genre, limitrows=10):\n",
    "    # searching for the genres keeping the content case insensitive\n",
    "    found_genres = joined[joined['genres'].str.contains(genre, case=False)]\n",
    "    # evaluating the avg rate and groupying by that rating\n",
    "    avgratingofinputgenre = found_genres.groupby('movieId')['rating'].mean().reset_index()\n",
    "    moviessorted = avgratingofinputgenre.sort_values(by='rating', ascending=False)\n",
    "    moviesontop = moviessorted.head(limitrows)\n",
    "    merged_movies = pd.merge(moviesontop, movies, on='movieId') \n",
    "    cols = ['title', 'rating'] \n",
    "    outputmovies= merged_movies[cols]\n",
    "    return outputmovies\n",
    "\n",
    "\n",
    "genre = input(\"Enter any genre of your choice: \")\n",
    "genre = genre.lower()\n",
    "recommended_movies = recommend_movies_by_genre(genre)\n",
    "print(\"Recommended movies in the\", genre, \"genre:\")\n",
    "for  i, row in recommended_movies.iterrows():\n",
    "    print(f\"{i+1}. {row['title']} - {round(row['rating'],2)}/5\")"
   ]
  }
 ],
 "metadata": {
  "language_info": {
   "name": "python"
  }
 },
 "nbformat": 4,
 "nbformat_minor": 2
}
